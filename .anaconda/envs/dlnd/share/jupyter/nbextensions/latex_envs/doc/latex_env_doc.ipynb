{
 "cells": [
  {
   "cell_type": "markdown",
   "metadata": {
    "deletable": true,
    "editable": true
   },
   "source": [
    "\\title{(some) LaTeX environments \\par for Jupyter notebook}\n",
    "\\author{@jfbercher}\n",
    "\\maketitle"
   ]
  },
  {
   "cell_type": "markdown",
   "metadata": {
    "deletable": true,
    "editable": true
   },
   "source": [
    "# Introduction"
   ]
  },
  {
   "cell_type": "markdown",
   "metadata": {
    "deletable": true,
    "editable": true,
    "latex_envs": true
   },
   "source": [
    "This extension for IPython 4.x or Jupyter enables to use some LaTeX commands and environments in the notebook's markdown cells. \n",
    "\\begin{enumerate}\n",
    "\\item **LaTeX commands and environments**\n",
    "\\begin{itemize}\n",
    "\\item support for some LaTeX commands within markdown cells, *e.g.* `\\textit`, `\\textbf`, `\\underline`, `author`, `\\title`, LaTeX comments\n",
    "\\item support for **theorems-like environments**, support for labels and **cross references**\n",
    "\\item support for **lists**: *enumerate, itemize*,  \n",
    "\\item limited support for a **figure environment**,\n",
    "\\item support for an environment *listing*,\n",
    "\\item additional *textboxa* environment\n",
    "\\end{itemize}\n",
    "\\item **Citations and bibliography**\n",
    "\\begin{itemize}\n",
    "\\item support for `\\cite` with creation of a References section\n",
    "\\end{itemize}\n",
    "\\item it is possible mix markdown and LaTeX markup\n",
    "\\item **Document-wide numbering of equations and environments, support for `\\label` and `\\ref`**\n",
    "\\item **Configuration toolbar**\n",
    "\\item **LaTeX_envs dropdown menu for a quick insertion of environments**\n",
    "\\item Support for **User $\\LaTeX$ definitions file** \n",
    "\\item Environments title/numbering can be customized by users in ``user_envs.json`` config file\n",
    "\\item **Export to HTML and LaTeX with a customized exporter**\n",
    "\\item Styles can be customized in the `latex_env.css` stylesheet\n",
    "\\item Limited **autocompletion** for \\$, (, {, [ \n",
    "\\end{enumerate}\n",
    "\n",
    "A simple illustration is as follows: one can type the following in a markdown cell\n",
    "\\begin{listing}\n",
    "The dot-product is defined by equation (\\ref{eq:dotp}) in theorem \\ref{theo:dotp} just below:\n",
    "\\begin{theorem}[Dot Product] \\label{theo:dotp}\n",
    "Let $u$ and $v$ be two vectors of $\\mathbb{R}^n$. The dot product can be expressed as\n",
    "\\begin{equation}\n",
    "\\label{eq:dotp}\n",
    "u^Tv = |u||v| \\cos \\theta,\n",
    "\\end{equation}\n",
    "where $\\theta$ is the angle between $u$ and $v$ ...\n",
    "\\end{theorem}\n",
    "\\end{listing}\n",
    "and have it rendered as\n",
    "\n",
    "The dot-product is defined by equation (\\ref{eq:dotp}) in theorem \\ref{theo:dotp} just below:\n",
    "\\begin{theorem}[Dot Product] \\label{theo:dotp}\n",
    "Let $u$ and $v$ be two vectors of $\\mathbb{R}^n$. The dot product can be expressed as\n",
    "\\begin{equation}\n",
    "\\label{eq:dotp}\n",
    "u^Tv = |u||v| \\cos \\theta,\n",
    "\\end{equation}\n",
    "where $\\theta$ is the angle between $u$ and $v$ ...\n",
    "\\end{theorem}"
   ]
  },
  {
   "cell_type": "markdown",
   "metadata": {
    "deletable": true,
    "editable": true
   },
   "source": [
    "## ** What's new **\n",
    "\n",
    "**February 9, 2017** - version 1.3.7\n",
    "\n",
    "- Enable customizing hotkeys for inserting environments (via `nbextensions_configurator`)\n",
    "- LaTeX\\_envs menu can be customized by editing `envsLatex.json` in `nbextensions/latex_envs` directory)\n",
    "- Autocompletion for \\$,(,{,[\n",
    "- Updates to ensure compatibility with nbTranslate\n",
    "- Recognize \\\\ [..\\\\ ] and \\\\ (..\\\\ ) as LaTeX equations delimiters in nb\n",
    "\n",
    "**November 2, 2016** - version 1.3.1\n",
    "\n",
    "- Support for **user environments configuration** file (`user_envs.json` in `nbextensions/latex\\_envs` directory). This file is included by the html export template.  \n",
    "- Support for **book/report style numbering** of environments, e.g. \"Example 4.2\" is example 2 in section 4. \n",
    "- Support for `\\author`, `\\title`, and `maketitle`. Author and title are saved in notebook metadata, used in html/latex exports. The maketitle command also formats a title in the LiveNotebook.  \n",
    "- Added a Toogle menu in the config toolbar to:\n",
    "    - toggle use of user's environments config file\n",
    "    - toggle `report-style` numbering\n",
    "\n",
    "\n",
    "**September 18, 2016** - version 1.3\n",
    "\n",
    "- Support for **user personal LaTeX definitions** file (`latexdefs.tex` in current directory). This file is included by the html and latex export templates.  \n",
    "- Style for nested enumerate environments added in `latex_envs.css`\n",
    "- Added a Toogle menu in the config toolbar to: \n",
    "    - toggle the display of the LaTeX_envs dropdown menu, \n",
    "    - toggle the display of labels keys, \n",
    "    - toggle use of user's LaTeX definition file\n",
    "- **Cross references now use the true environment number instead of the reference//label key**. **References are updated immediately**. This works **document wide** and works for pre and post references\n",
    "- Support for optional parameters in theorem-like environments\n",
    "- Support for spacings in textmode, eg `\\par`, `\\vspace, \\hspace`\n",
    "- Support for LaTeX comments % in markdown cells\n",
    "- Reworked loading and merging of system/document configuration parameters\n",
    "\n",
    "**August 28, 2016** - version 1.2\n",
    "\n",
    "- **Added support for nested environments of the same type**. Nesting environments of different type was already possible, but there was a limitation for nesting environments of the same kind; eg itemize in itemize in itemize. This was due to to the fact that regular expressions are not suited to recursivity. I have developped a series of functions that enable to extract nested environments and thus cope with such situations. \n",
    "\n",
    "- Corrected various issues, eg [#731](https://github.com/ipython-contrib/jupyter_contrib_nbextensions/issues/731), [#720](https://github.com/ipython-contrib/jupyter_contrib_nbextensions/issues/720) where the content of nested environments was incorrectly converted to markdown. \n",
    "\n",
    "- Completely reworked the configuration toolbar. Re-added tips.\n",
    "- Added a toggle-button for the LaTeX\\_envs menu\n",
    "- Added system parameters that can be specified using the [nbextensions_configurator](https://github.com/Jupyter-contrib/jupyter_nbextensions_configurator/tree/master/src/jupyter_nbextensions_configurator/static/nbextensions_configurator). Thus reworked the configuration loading/saving. \n",
    "- Reworked extension loading. It now detects if the notebook is fully loaded before loading itself.\n",
    "\n",
    "\n",
    "**August 03, 2016** - version 1.13\n",
    "\n",
    "- Added a template to also keep the toc2 features when exporting to html:\n",
    "```\n",
    "jupyter nbconvert --to html_toclenvs FILE.ipynb\n",
    "```\n",
    "- Added a dropdown menu that enables to insert all main LaTeX\\_envs environments using a simple click. Two keybards shortcuts (Ctrl-E and Ctrl-I) for equations and itemize are also provided. More environments and shortcuts can be added in the file `envsLatex.js`.\n",
    "\n",
    "- Added a link in the general help menu that points to the documentation. \n",
    "\n",
    "\n",
    "**July 27, 2016** - version 1.1\n",
    "\n",
    "- In this version I have reworked **equation numbering**. In the previous version, I used a specialized counter and detected equations rendering for updating this counter. Meanwhile, this feature has been introduced in `MathJax` and now we rely on MathJax implementation. rendering is significantly faster. We still have keep the capability of displaying only equation labels (instead of numbers). The numbering is automatically updated and is document-wide.\n",
    "- I have completely reworked the **notebook conversion** to plain $\\LaTeX$ and html. We provide specialized exporters, pre and post processors, templates. We also added entry-points to simplify the conversion process. It is now as simple as\n",
    "```bash\n",
    "jupyter nbconvert --to html_with_lenvs FILE.ipynb\n",
    "```\n",
    "to convert `FILE.ipynb` into html while keeping all the features of the `latex_envs` notebook extension in the converted version. \n"
   ]
  },
  {
   "cell_type": "markdown",
   "metadata": {
    "deletable": true,
    "editable": true,
    "latex_envs": true
   },
   "source": [
    "# Main features\n",
    "## Implementation principle\n",
    "\n",
    "The main idea is to override the standard Markdown renderer in order to add a *small* parsing of LaTeX expressions and environments. This heavily uses regular expressions. The LaTeX expression are then rendered using an html version. For instance `\\underline {something}` is rendered as `<u> something </u>`, that is \\underline{something}. The environments are replaced by an html tag with a class derived from the name of the environment. For example, a `definition` denvronment will be replaced by an html rendering corresponding to the class `latex_definition`. The styles associated with the different classes are specified in `latex_env.css`. These substitutions are implemented in `thsInNb4.js`."
   ]
  },
  {
   "cell_type": "markdown",
   "metadata": {
    "deletable": true,
    "editable": true,
    "latex_envs": true
   },
   "source": [
    "## Support for simple LaTeX commands"
   ]
  },
  {
   "cell_type": "markdown",
   "metadata": {
    "deletable": true,
    "editable": true,
    "latex_envs": true
   },
   "source": [
    "We also added some LaTeX commands (e.g. `\\textit`, `\\textbf`, `\\underline`) -- this is useful in the case of copy-paste from a LaTeX document. The extension also supports some textmode spacings, namely `\\par`, `\\vspace, \\hspace` as well as `\\title`, `\\author`, `maketitle` and  LaTeX comments % in markdown cells. Labels and cross-references are supported, including for equations."
   ]
  },
  {
   "cell_type": "markdown",
   "metadata": {
    "deletable": true,
    "editable": true,
    "latex_envs": true
   },
   "source": [
    "## Available environments"
   ]
  },
  {
   "cell_type": "markdown",
   "metadata": {
    "deletable": true,
    "editable": true
   },
   "source": [
    "- **theorems-like environments**: *property, theorem, lemma, corollary, proposition, definition,remark, problem,           exercise, example*,\n",
    "- **lists**: *enumerate, itemize*,  \n",
    "- limited support for a *figure* environment,\n",
    "- an environment *listing*,\n",
    "- *textboxa*, wich is a `textbox` environment defined as a demonstration (see below).\n",
    "\n",
    "More environments can be added easily in the user\\_envs config file `user_envs.json` or directly in the javascript source file `thmsInNb4.js`. The rendering is done according to the stylesheet `latex_env.css`, which can be customized.\n",
    "\\begin{remark}\n",
    "When exporting to html, the `latex_env.css` file honored is the file on the github CDN. However, customized css can be added in a `custom.css` file that must reside in the same directory as the notebook itself. The reason for that is that the `css` file must be in the same directory as the notebook file for inclusion, which means copying it in each working directory. As the rendering of the html file obtained is done using the original javascript code, the same is true for the source files; therefore it is better to curstomize environments in  `user_envs.json` which is taken into account when exporting to html.  \n",
    "\\end{remark}"
   ]
  },
  {
   "cell_type": "markdown",
   "metadata": {
    "deletable": true,
    "editable": true,
    "latex_envs": true
   },
   "source": [
    "## Automatic numerotation, labels and references "
   ]
  },
  {
   "cell_type": "markdown",
   "metadata": {
    "deletable": true,
    "editable": true,
    "latex_envs": true
   },
   "source": [
    "Several counters for numerotation are implemented: counters for         problem, exercise, example, property, theorem, lemma, corollary, proposition, definition, remark, and figure are available. \n",
    "Mathjax-equations with a label are also numbered document-wide. \n",
    "An anchor is created for any label which enables to links things within the document: `\\label` and `\\ref` are both supported. A limitation was that numbering was updated (incremented) each time a cell is rendered. Document-wide automatic updating is implemented since version 1.3. A toolbar button is provided to reset the counters and refresh the rendering of the whole document (this is still useful for citations and bibliography refresh)."
   ]
  },
  {
   "cell_type": "markdown",
   "metadata": {
    "deletable": true,
    "editable": true
   },
   "source": [
    "\\label{example:mixing} A simple example is as follows, featuring automatic numerotation, and the use of labels and references. Also note that standard markdown can be present in the environment and is interpreted. \n",
    "*The rendering is done according to the stylesheet `latex_env.css`, which of course, can be customized to specific uses and tastes*.  \n",
    "\n",
    "\\begin{listing}\n",
    "\\begin{definition} \\label{def:FT}\n",
    "Let $x[n]$ be a sequence of length $N$. Then, its **Fourier transform** is given by\n",
    "\\begin{equation}\n",
    "\\label{eq:FT}\n",
    "X[k]= \\frac{1}{N} \\sum_{n=0}^{N-1} x[n] e^{-j2\\pi \\frac{kn}{N}}\n",
    "\\end{equation}\n",
    "\\end{definition}\n",
    "\\end{listing}\n",
    "\n",
    "\n",
    "\\begin{definition} \\label{def:FT}\n",
    "Let $x[n]$ be a sequence of length $N$. Then, its **Fourier transform** is given by\n",
    "\\begin{equation}\n",
    "\\label{eq:FT2}\n",
    "X[k]= \\frac{1}{N} \\sum_{n=0}^{N-1} x[n] e^{-j2\\pi \\frac{kn}{N}}\n",
    "\\end{equation}\n",
    "\\end{definition}"
   ]
  },
  {
   "cell_type": "markdown",
   "metadata": {
    "deletable": true,
    "editable": true
   },
   "source": [
    "It is now possible to refer to the definition and to the equation by their labels,  as in:\n",
    "\\begin{listing}\n",
    "As an example of Definition \\ref{def:FT}, consider the Fourier transform (\\ref{eq:FT2}) of a pure cosine wave given by\n",
    "$$\n",
    "x[n]= \\cos(2\\pi k_0 n/N),\n",
    "$$\n",
    "where $k_0$ is an integer. \n",
    "\\end{listing}"
   ]
  },
  {
   "cell_type": "markdown",
   "metadata": {
    "deletable": true,
    "editable": true
   },
   "source": [
    "As an example of Definition \\ref{def:FT}, consider the Fourier transform (\\ref{eq:FT2}) of a pure cosine wave given by\n",
    "$$\n",
    "x[n]= \\cos(2\\pi k_0 n/N),\n",
    "$$\n",
    "where $k_0$ is an integer. \n",
    "Its Fourier transform is given by \n",
    "$$\n",
    "X[k] = \\frac{1}{2} \\left( \\delta[k-k_0] + \\delta[k-k_0] \\right), \n",
    "$$\n",
    "modulo $N$. "
   ]
  },
  {
   "cell_type": "markdown",
   "metadata": {
    "deletable": true,
    "editable": true,
    "latex_envs": true
   },
   "source": [
    "## Bibliography"
   ]
  },
  {
   "cell_type": "markdown",
   "metadata": {
    "deletable": true,
    "editable": true,
    "latex_envs": true
   },
   "source": [
    "### Usage"
   ]
  },
  {
   "cell_type": "markdown",
   "metadata": {
    "deletable": true,
    "editable": true
   },
   "source": [
    "It is possible to cite bibliographic references using the standard LaTeX `\\cite` mechanism. The extension looks for the references in a bibTeX file, by default `biblio.bib` in the same directory as the notebook. The name of this file can be modified in the configuration toolbar. It is then possible to cite works in the notebook, e.g. \n",
    "\\begin{listing}\n",
    "The main paper on IPython is definitively \\cite{PER-GRA:2007}. Other interesting references are certainly \\cite{mckinney2012python, rossant2013learning}. Interestingly, a presentation of the IPython notebook has also be published recently in Nature \\cite{shen2014interactive}.\n",
    "\\end{listing}\n",
    "The main paper on IPython is definitively \\cite{PER-GRA:2007}. Other interesting references are certainly \\cite{mckinney2012python, rossant2013learning}. Interestingly, a presentation of the IPython notebook has also be published recently in Nature \\cite{shen2014interactive}."
   ]
  },
  {
   "cell_type": "markdown",
   "metadata": {
    "deletable": true,
    "editable": true,
    "latex_envs": true
   },
   "source": [
    "### Implementation"
   ]
  },
  {
   "cell_type": "markdown",
   "metadata": {
    "deletable": true,
    "editable": true,
    "latex_envs": true
   },
   "source": [
    "The implemention uses several snippets from the nice [icalico-document-tools](https://bitbucket.org/ipre/calico/downloads/) extension that also considers the rendering of citations in the notebook. We also use a modified version of the [bibtex-js](https://code.google.com/p/bibtex-js/) parser for reading the references in the bibTeX file. The different functions are implemented in `bibInNb4.js`. The rendering of citations calls can adopt three styles (Numbered, by key or apa-like) -- this can be selected in the configuration toolbar. It is also possible to customize the rendering of references in the reference list. A citation template is provided in the beginning of file `latex_envs.js`: \n",
    "```\n",
    "var cit_tpl = {\n",
    "// feel free to add more types and customize the templates\n",
    "    'INPROCEEDINGS': '%AUTHOR:InitialsGiven%, ``_%TITLE%_\\'\\', %BOOKTITLE%, %MONTH% %YEAR%.',\n",
    "    ... etc\n",
    "```\n",
    "The keys are the main types of documents, eg inproceedings, article, inbook, etc. To each key is associated a string where the %KEYWORDS% are the fields of the bibtex entry. The keywords are replaced by the correponding bibtex entry value. The template string can formatted with additional words and effects (markdown or LaTeX are commands are supported)"
   ]
  },
  {
   "cell_type": "markdown",
   "metadata": {
    "deletable": true,
    "editable": true,
    "latex_envs": true
   },
   "source": [
    "## Figure environment"
   ]
  },
  {
   "cell_type": "markdown",
   "metadata": {
    "deletable": true,
    "editable": true
   },
   "source": [
    "Finally, it is sometimes useful to integrate a figure within a markdown cell. The standard markdown markup for that is `![link](image)`, but a limitation is that the image can not be resized, can not be referenced and is not numbered. Furthermore it can be useful for re-using existing code. Threfore we have added a limited support for the `figure` environment. This enables to do something like\n",
    "\\begin{listing}\n",
    "\\begin{figure}\n",
    "\\centerline{\\includegraphics[width=10cm]{example.png}}\n",
    "\\caption{\\label{fig:example} This is an example of figure included using LaTeX commands.}\n",
    "\\end{figure}\n",
    "\\end{listing}\n",
    "which renders as\n",
    "\\begin{figure}\n",
    "\\centerline{\\includegraphics[width=10cm]{example.png}}\n",
    "\\caption{\\label{fig:example} This is an example of figure included using LaTeX commands.}\n",
    "\\end{figure}\n",
    "Of course, this Figure can now be referenced: \n",
    "\\begin{listing}\n",
    "Figure \\ref{fig:example} shows a second filter with input $X_2$, output $Y_2$  and an impulse response denoted as $h_2(n)$\n",
    "\\end{listing}\n",
    "Figure \\ref{fig:example} shows a second filter with input $X_2$, output $Y_2$  and an impulse response denoted as $h_2(n)$"
   ]
  },
  {
   "cell_type": "markdown",
   "metadata": {
    "deletable": true,
    "editable": true
   },
   "source": [
    "## figcaption"
   ]
  },
  {
   "cell_type": "markdown",
   "metadata": {
    "deletable": true,
    "editable": true
   },
   "source": [
    "For Python users, we have added in passing a simple function in the `latex_envs.py` library. \n",
    "\n",
    "This function can be imported classically, eg `from latex_envs.latex_envs import figcaption` (or `from jupyter_contrib_nbextensions.nbconvert_support.latex_envs import figcaption` if you installed from the jupyter_contrib repo). \n",
    "\n",
    "Then, this function enables to specify a caption and a label for the next plot. In turn, when exporting to $\\LaTeX$, the corresponding plot is converted to a nice figure environement with a label and a caption. \n",
    "\n",
    "To enable large and wide figure in  $\\LaTeX$ open notebook menu View->Cell Toolbar -> Edit metadata, open the cell metadata and set \"widefigure\" : true"
   ]
  },
  {
   "cell_type": "code",
   "execution_count": 5,
   "metadata": {
    "collapsed": false,
    "deletable": true,
    "editable": true,
    "widefigure": true
   },
   "outputs": [
    {
     "data": {
      "text/html": [
       "<div class=caption><b> Caption: </b> This is a nice sine wave</div>"
      ],
      "text/plain": [
       "<IPython.core.display.HTML object>"
      ]
     },
     "metadata": {},
     "output_type": "display_data"
    },
    {
     "data": {
      "application/json": {
       "caption": "This is a nice sine wave",
       "label": "fig:mysin"
      }
     },
     "metadata": {},
     "output_type": "display_data"
    },
    {
     "data": {
      "image/png": "[encoded data removed]",
      "text/plain": [
       "<matplotlib.figure.Figure at 0x7f264b914dd8>"
      ]
     },
     "metadata": {},
     "output_type": "display_data"
    },
    {
     "data": {
      "text/html": [
       "<div class=caption><b> Caption: </b> This is a nice cosine wave</div>"
      ],
      "text/plain": [
       "<IPython.core.display.HTML object>"
      ]
     },
     "metadata": {},
     "output_type": "display_data"
    },
    {
     "data": {
      "application/json": {
       "caption": "This is a nice cosine wave",
       "label": "fig:mycos"
      }
     },
     "metadata": {},
     "output_type": "display_data"
    },
    {
     "data": {
      "image/png": "[encoded data removed]",
      "text/plain": [
       "<matplotlib.figure.Figure at 0x7f264b719cf8>"
      ]
     },
     "metadata": {},
     "output_type": "display_data"
    }
   ],
   "source": [
    "%matplotlib inline\n",
    "import matplotlib.pyplot as plt\n",
    "from latex_envs.latex_envs import figcaption\n",
    "from numpy import pi, sin, cos,arange\n",
    "figcaption(\"This is a nice sine wave\", label=\"fig:mysin\")\n",
    "plt.plot(sin(2*pi*0.01*arange(100)))\n",
    "plt.show()\n",
    "figcaption(\"This is a nice cosine wave\", label=\"fig:mycos\")\n",
    "plt.plot(cos(2*pi*0.01*arange(100)))\n",
    "plt.show()\n"
   ]
  },
  {
   "cell_type": "markdown",
   "metadata": {},
   "source": [
    "Sine wave is shown in fig \\label{fig:mysin} and cosine in \\label{fig:mycos}."
   ]
  },
  {
   "cell_type": "markdown",
   "metadata": {
    "deletable": true,
    "editable": true,
    "latex_envs": true
   },
   "source": [
    "## Other features"
   ]
  },
  {
   "cell_type": "markdown",
   "metadata": {
    "deletable": true,
    "editable": true
   },
   "source": [
    "- As shown in the examples, eg \\ref{example:mixing} (or just below), **it is possible to mix LaTeX and markdown markup in environments**\n",
    "- Support for **line-comments**: lines beginning with a % will be masked when rendering \n",
    "- Support for **linebreaks**: `\\par_`, where \\_ denotes any space, tab, linefeed, cr, is replaced by a linebreak \n",
    "\n",
    "- Environments can be nested. egg:\n",
    "\\begin{listing}\n",
    "This is an example of nested environments, with equations inside\\\\\n",
    "\\begin{proof} Demo\n",
    "% This is a comment\n",
    "\\begin{enumerate}\n",
    "\\item $$ \\left\\{ p_1, p_2, p_3 \\ldots p_n \\right\\} $$\n",
    "\\item A **nested enumerate**\n",
    "\\item second item \n",
    "\\begin{enumerate}\n",
    "\\item $ \\left\\{ p_1, p_2, p_3 \\ldots p_n \\right\\} $\n",
    "\\item And *another one*\n",
    "\\item second item \n",
    "\\begin{enumerate}\n",
    "\\item $$ \\left\\{ p_1, p_2, p_3 \\ldots p_n \\right\\} $$\n",
    "\\item second item \n",
    "\\end{enumerate}\n",
    "\\end{enumerate}\n",
    "\\end{enumerate}\n",
    "\\end{proof}\n",
    "\\end{listing}\n",
    "which results in\n"
   ]
  },
  {
   "cell_type": "markdown",
   "metadata": {
    "deletable": true,
    "editable": true,
    "latex_envs": true
   },
   "source": [
    "This is an example of nested environments, with equations inside\\\\\n",
    "\\begin{proof} Demo\n",
    "% This is a comment\n",
    "\\begin{enumerate}\n",
    "\\item \n",
    "\\begin{equation}\\label{eq:}\n",
    "\\left\\{ p_1, p_2, p_3 \\ldots p_n \\right\\}\n",
    "\\end{equation}\n",
    "$$ \\left\\{ p_1, p_2, p_3 \\ldots p_n \\right\\} $$\n",
    "\\item A **nested enumerate**\n",
    "\\item second item \n",
    "\\begin{enumerate}\n",
    "\\item $\\left\\{ p_1, p_2, p_3 \\ldots p_n \\right\\}$\n",
    "\\item And *another one*\n",
    "\\item second item \n",
    "\\begin{enumerate}\n",
    "\\item $$ \\left\\{ p_1, p_2, p_3 \\ldots p_n \\right\\} $$\n",
    "\\item second item \n",
    "\\end{enumerate}\n",
    "\\end{enumerate}\n",
    "\\end{enumerate}\n",
    "\\end{proof}"
   ]
  },
  {
   "cell_type": "markdown",
   "metadata": {
    "deletable": true,
    "editable": true,
    "latex_envs": true
   },
   "source": [
    "## User interface"
   ]
  },
  {
   "cell_type": "markdown",
   "metadata": {
    "deletable": true,
    "editable": true,
    "latex_envs": true
   },
   "source": [
    "### Buttons on main toolbar"
   ]
  },
  {
   "cell_type": "markdown",
   "metadata": {
    "deletable": true,
    "editable": true,
    "latex_envs": true
   },
   "source": [
    "On the main toolbar, the extension provides three buttons ![three buttons](main_toolbar.png) The first one can be used to refresh the numerotation of equations and references in all the document. The second one fires the reading of the bibliography bibtex file and creates (or updates) the reference section. Finally the third one is a toogle button that opens or closes the configuration toolbar."
   ]
  },
  {
   "cell_type": "markdown",
   "metadata": {
    "deletable": true,
    "editable": true,
    "latex_envs": true
   },
   "source": [
    "### Configuration toolbar"
   ]
  },
  {
   "cell_type": "markdown",
   "metadata": {
    "deletable": true,
    "editable": true,
    "latex_envs": true
   },
   "source": [
    "The configuration toolbar  ![configuration toolbar](config_toolbar.png) enables to enter some configuration options for the extension. \n",
    "\n",
    "First, the `LaTeX\\_envs` title links to this documentation. Then, the bibliography text input can be used to indicate the name of the bibtex file. If this file is not found and the user creates the reference section, then this section will indicate that the file was not found. The `References` drop-down menu enables to choose the type of reference calls. The Equations input box enables to initiate numbering of equations at the given number (this may be useful for complex documents in several files/parts). The `Equations` drop-down menu let the user choose to number equation or to display their label instead. The two next buttons enable to toogle display of the LaTeX\\_envs environments insertion menu or to toggle the displau of LaTeX labels. Finally The `Toogles` dropdown menu enable to toogle the state of several parameters. All these configuration options are then stored in the notebook's metadata (and restored on reload)."
   ]
  },
  {
   "cell_type": "markdown",
   "metadata": {
    "deletable": true,
    "editable": true
   },
   "source": [
    "The `Toggles` dropdown menu \n",
    "![Toggles](Toggles.png)\n",
    "\n",
    "enables to toggle the state of several configuration options:\n",
    "\n",
    "- display the `LaTeX_envs` insertion menu or not,\n",
    "- show labels anchors,\n",
    "- use $\\LaTeX$ user own LaTeX defintions (loads `latexdefs.tex` file from current document directory),\n",
    "- load user's environments configuration (file `user_envs.json` in `nbextensions/latex_envs` directory),\n",
    "- select \"report style\" numbering of environments\n"
   ]
  },
  {
   "cell_type": "markdown",
   "metadata": {
    "deletable": true,
    "editable": true
   },
   "source": [
    "### The `LaTeX_envs` insertion menu\n",
    "The `LaTeX_envs` insertion menu\n",
    "![LaTeX_envs_menu](LaTeX_envs_menu.png)\n",
    "enables a quick insertion of LaTeX environments, some with a keyboard shorcut (this can be customized in `envsLatex.js`). Besides, selected text will be inserted in the environment. "
   ]
  },
  {
   "cell_type": "markdown",
   "metadata": {
    "deletable": true,
    "editable": true,
    "latex_envs": true
   },
   "source": [
    "# Conversion to LaTeX and HTML"
   ]
  },
  {
   "cell_type": "markdown",
   "metadata": {
    "deletable": true,
    "editable": true,
    "latex_envs": true
   },
   "source": [
    "The extension works in the live-notebook. Since it relies on a bunch of javascript, the notebook does not render as is in services such as `nbviewer` or `github` viewer. Similarly, `nbconvert` does not know of the LaTeX constructs which are used here and therefore does not fully convert notebooks using this extension. \n",
    "\n",
    "Therefore, we provide specialized templates and exporters to achieve these conversions. "
   ]
  },
  {
   "cell_type": "markdown",
   "metadata": {
    "deletable": true,
    "editable": true,
    "latex_envs": true
   },
   "source": [
    "## Conversion to html\n",
    "We provide a template `latex_envs.tpl` and an exporter class `LenvsHTMLExporter` (in library `latex_envs.py`). Using that class, conversion simply amounts to\n",
    "```\n",
    "jupyter nbconvert --to latex_envs.LenvsHTMLExporter FILE.ipynb\n",
    "```\n",
    "A shortcut is also provided \n",
    "```\n",
    "jupyter nbconvert --to html_with_lenvs FILE.ipynb\n",
    "```\n",
    "It should be noted that the rendering is done exactly in the same way as in the livenotebook. Actually, it is the very same javascript which is run in the html file. The javascript functions are available on the extension github as well as in the `jupyter_notebook_extensions` CDN, which means that the rendering of the html files requires an internet connection (this is also true for the rendering of equations with MathJax).\n",
    "\n",
    "Another template `latex_envs_toc.tpl` is provided which enables to also \n",
    "keep the toc2 features when exporting to html (*it even works if you do not have the `toc2` extension!*):\n",
    "```bash\n",
    "jupyter nbconvert --to html_with_toclenvs FILE.ipynb\n",
    "```\n",
    "**If you use the version included in the jupyter_notebook_extensions collection**, the entry-points (conversion shortcuts) are a little different: use instead\n",
    "\n",
    "-  \n",
    "```\n",
    "jupyter nbconvert --to html_lenvs FILE.ipynb\n",
    "```\n",
    "- \n",
    "```\n",
    "jupyter nbconvert --to html_toclenvs FILE.ipynb\n",
    "```\n",
    "\n",
    "## Conversion to LaTeX\n",
    "\n",
    "We provide two templates `thmsInNb_article.tplx` and `thmsInNb_report.tplx` for article and report styles respectively. Anyway one can also use the standard article, report, book templates provided with nbconvert. Simply, we have improved some of the internals styles. More importantly, we provide an exporter class `LenvsLatexExporter` (also in library `latex_envs.py`). Using that class, conversion simply amounts to\n",
    "```\n",
    "jupyter nbconvert --to latex_envs.LenvsLatexExporter FILE.ipynb\n",
    "```\n",
    "A shortcut is also provided \n",
    "```\n",
    "jupyter nbconvert --to latex_with_lenvs FILE.ipynb\n",
    "```\n",
    "In addition, we provide several further options:\n",
    "\n",
    "-  **removeHeaders**: Remove headers and footers, (default false)\n",
    "-  **figcaptionProcess**: Process figcaptions, (default true)\n",
    "- **tocrefRemove** Remove tocs and ref sections, + some cleaning, (default true), \n",
    "\n",
    "These options can be specified on the command line as, eg, \n",
    "```\n",
    "jupyter nbconvert --to latex_with_lenvs --LenvsLatexExporter.removeHeaders=True -- LenvsLatexExporter.tocrefRemove=False FILE.ipynb\n",
    "```\n",
    "\n",
    "**If you use the version included in the jupyter_notebook_extensions collection**, the entry-points (conversion shortcuts) are a little different: use instead\n",
    "```\n",
    "jupyter nbconvert --to latex_lenvs FILE.ipynb\n",
    "```"
   ]
  },
  {
   "cell_type": "markdown",
   "metadata": {
    "deletable": true,
    "editable": true
   },
   "source": [
    "\\begin{example}\n",
    "As for an example, the present document has been converted using   \n",
    "```\n",
    "jupyter nbconvert --to latex_with_lenvs --LenvsLatexExporter.removeHeaders=True latex_env_doc.ipynb\n",
    "```\n",
    "    \n",
    "Then the resulting file (without header/footer) has been included in the main file `documentation.tex`, where some LaTeX definitions of environments are done (namely listings, colors, etc) and compiled using \n",
    "\n",
    "- `xelatex -interaction=nonstopmode documentation`\n",
    "- `bibTeX documentation`\n",
    "- `xelatex -interaction=nonstopmode documentation`\n",
    "   \n",
    "The output can be consulted [here](documentation.pdf).    \n",
    "\\end{example}"
   ]
  },
  {
   "cell_type": "markdown",
   "metadata": {
    "deletable": true,
    "editable": true,
    "latex_envs": true
   },
   "source": [
    "# Installation"
   ]
  },
  {
   "cell_type": "markdown",
   "metadata": {
    "deletable": true,
    "editable": true,
    "latex_envs": true
   },
   "source": [
    "The extension consists in a package that includes a javascript notebook extension. Since Jupyter 4.2, this is the recommended way to distribute nbextensions. The extension can be installed\n",
    "\n",
    "- from the master version on the github repo (this will be always the most recent version)\n",
    "- via pip for the version hosted on Pypi\n",
    "- as part of the great [Jupyter-notebook-extensions](https://github.com/ipython-contrib/Jupyter-notebook-extensions) collection. Follow the instructions there for installing. Once this is done, you can open a tab at  `http://localhost:8888/nbextensions` to enable and configure the various extensions. \n",
    "\n",
    "From the github repo or from Pypi, \n",
    "\n",
    "- **step 1**: install the package\n",
    "     - `pip3 install https://github.com/jfbercher/jupyter_latex_envs/archive/master.zip [--user][--upgrade]`\n",
    "     -  <span style=\"color:blue\"> or</span> `pip3 install jupyter_latex_envs [--user][--upgrade]`\n",
    "     - <span style=\"color:blue\"> or</span> clone the repo and install\n",
    "   ```\n",
    "   git clone https://github.com/jfbercher/jupyter_latex_envs.git\n",
    "   python3 setup.py install\n",
    "   ```\n",
    "   \n",
    "   \n",
    "With Jupyter >= 4.2,\n",
    "\n",
    "- **step 2**: install the notebook extension \n",
    "```\n",
    "jupyter nbextension install --py latex_envs [--user]\n",
    "```\n",
    "\n",
    "-  **step 3**: and enable it\n",
    "```\n",
    "jupyter nbextension enable latex_envs [--user] --py\n",
    "```\n",
    "\n",
    "For Jupyter versions before 4.2, the situation is more tricky since you will have to find the location of the source files (instructions from @jcb91 found [here](https://github.com/jcb91/jupyter_highlight_selected_word)): execute \n",
    "```\n",
    "python -c \"import os.path as p; from jupyter_highlight_selected_word import __file__ as f, _jupyter_nbextension_paths as n; print(p.normpath(p.join(p.dirname(f), n()[0]['src'])))\"\n",
    "```\n",
    "Then, issue \n",
    "```\n",
    "jupyter nbextension install <output source directory>\n",
    "jupyter nbextension enable latex_envs/latex_envs\n",
    "```\n",
    "where `<output source directory>` is the output of the python command.  "
   ]
  },
  {
   "cell_type": "markdown",
   "metadata": {
    "deletable": true,
    "editable": true
   },
   "source": [
    "# Customization\n",
    "\n",
    "## Configuration parameters\n",
    "\n",
    "Some configuration parameters can be specified system-wide, using the `nbextension_configurator`. For that, open a browser at [http://localhost:8888/nbextensions/](http://localhost:8888/nbextensions/) -- the exact address may change eg if you use jupyterhub or if you use a non standard port. You will then be able to change default values for the boolean values\n",
    "- LaTeX_envs menu (insert environments) present\n",
    "- Label equation with numbers (otherwise with their \\label{} key)\n",
    "- Number environments as section.num\n",
    "- Use customized environments as given in 'user_envs.json' (in the extension directory)\n",
    "and enter a default filename for the bibtex file (in document directory). \n",
    "\n",
    "All these values can also be changed per documents and these values are stored in the notebook's metadata. \n",
    "\n",
    "\n",
    "## User environments configuration\n",
    "\n",
    "Environments can be customized in the file `user_envs.json`, located in the `nbextensions/latex_envs` directory. It is even possible to add *new* environments. This file is read at startup (or when using the corresponding toggle option in the `Toggles` menu) and merged with the standard configuration. An example is provided as `example_user_envs.json`. For each (new/modified) environment, one has to  provide (i) the name of the environment (ii) its title (iii) the name of the associated counter for numbering it; eg\n",
    "```\n",
    "    \"myenv\": {\n",
    "        \"title\": \"MyEnv\",\n",
    "        \"counterName\": \"example\"\n",
    "    },\n",
    "```    \n",
    "Available counters are problem, exercise, example, property, theorem, lemma, corollary, proposition, definition, remark, and figure. \n",
    "\n",
    "## Styling \n",
    "The document title and the document author (as specified by `\\title` and `\\author` are formatted using the `maketitle` command according to the `.latex_maintitle` and `.latex_author` div styles.\n",
    "\n",
    "Each environment is formatted according to the div style `.latex_environmentName`, e.g. `.latex_theorem`, `.latex_example`, etc. The titles of environments are formatted with respect to `.latex_title` and the optional parameter wrt `.latex_title_opt`. \n",
    "Images are displayed using the style specified by `.latex_img` and thir caption using `.caption`. \n",
    "Finally, enumerate environments are formatted according to the `.enum` style. Similarly, itemize environments are formatted using `.item` style.  \n",
    "\n",
    "These styles can be customized either in the `latex_envs.css` file, or better in a `custom.css` in the document directory. "
   ]
  },
  {
   "cell_type": "markdown",
   "metadata": {
    "collapsed": true,
    "deletable": true,
    "editable": true,
    "latex_envs": true
   },
   "source": [
    "# Usage and further examples"
   ]
  },
  {
   "cell_type": "markdown",
   "metadata": {
    "deletable": true,
    "editable": true,
    "latex_envs": true
   },
   "source": [
    "## First example (continued)"
   ]
  },
  {
   "cell_type": "markdown",
   "metadata": {
    "deletable": true,
    "editable": true
   },
   "source": [
    "We continue the first example on fthe Fourier transform definition \\ref{def:FT} in order to show that, of course, we can illustrate things using a simple code. Since the Fourier transform is an essential tool in signal processing, We put this in evidence using the `textboxa` environment -- which is defined here in the css, and that one should define in the LaTeX counterpart:\n",
    "\\begin{listing}\n",
    "\\begin{textboxa}\n",
    "The Fourier transform is an extremely useful tool to have in your toolbox!\n",
    "\\end{textboxa}\n",
    "\\end{listing}"
   ]
  },
  {
   "cell_type": "markdown",
   "metadata": {
    "deletable": true,
    "editable": true
   },
   "source": [
    "\\begin{textboxa}\n",
    "The Fourier transform is an extremely useful tool to have in your toolbox!\n",
    "\\end{textboxa}\n"
   ]
  },
  {
   "cell_type": "markdown",
   "metadata": {
    "deletable": true,
    "editable": true,
    "latex_envs": true
   },
   "source": [
    "The Fourier transform of a pure cosine is given by \n",
    "$$\n",
    "X[k] = \\frac{1}{2} \\left( \\delta[k-k_0] + \\delta[k-k_0] \\right), \n",
    "$$\n",
    "modulo $N$. This is illustrated in the following simple script:"
   ]
  },
  {
   "cell_type": "code",
   "execution_count": 2,
   "metadata": {
    "collapsed": false,
    "deletable": true,
    "editable": true
   },
   "outputs": [
    {
     "data": {
      "image/png": "[encoded data removed]",
      "text/plain": [
       "<matplotlib.figure.Figure at 0x7f2611adb0f0>"
      ]
     },
     "metadata": {},
     "output_type": "display_data"
    }
   ],
   "source": [
    "%matplotlib inline\n",
    "import numpy as np\n",
    "import matplotlib.pyplot as plt \n",
    "from numpy.fft import fft\n",
    "k0=4; N=128; n=np.arange(N); k=np.arange(N)\n",
    "x=np.sin(2*np.pi*k0*n/N)\n",
    "X=fft(x)\n",
    "plt.stem(k,np.abs(X))\n",
    "plt.xlim([0, 20])\n",
    "plt.title(\"Fourier transform of a cosine\")\n",
    "_=plt.xlabel(\"Frequency index (k)\")"
   ]
  },
  {
   "cell_type": "markdown",
   "metadata": {
    "deletable": true,
    "editable": true,
    "latex_envs": true
   },
   "source": [
    "## Second example"
   ]
  },
  {
   "cell_type": "markdown",
   "metadata": {
    "deletable": true,
    "editable": true,
    "latex_envs": true
   },
   "source": [
    "This example shows a series of environments, with different facets; **links, references, markdown or/and LaTeX formatting within environments**.  The listing of environments below is typed using the environment *listing*..."
   ]
  },
  {
   "cell_type": "markdown",
   "metadata": {
    "deletable": true,
    "editable": true
   },
   "source": [
    "\\begin{listing}\n",
    "\\begin{definition} \\label{def:diffeq}\n",
    "We call \\textbf{difference equation} an equation of the form\n",
    "$$\n",
    "\\label{eq:diffeq}\n",
    "y[n]= \\sum_{k=1}^{p} a_k y[n-k] + \\sum_{i=0}^q b_i x[n-i]\n",
    "$$\n",
    "\\end{definition}\n",
    "\n",
    "\\begin{property}\n",
    "If all the $a_k$ in equation (\\ref{eq:diffeq}) of definition \\ref{def:diffeq} are zero, then the filter has a **finite impulse response**. \n",
    "\\end{property}\n",
    "\n",
    "\\begin{proof}\n",
    "Let $\\delta[n]$ denote the Dirac impulse. Take $x[n]=\\delta[n]$ in (\\ref{eq:diffeq}). This yields, by definition, the impulse response:\n",
    "$$\n",
    "\\label{eq:fir}\n",
    "h[n]= \\sum_{i=0}^q b_i \\delta[n-i],\n",
    "$$\n",
    "which has finite support. \n",
    "\\end{proof}\n",
    "\n",
    "\\begin{theorem}\n",
    "The poles of a causal stable filter are located within the unit circle in the complex plane.\n",
    "\\end{theorem}\n",
    "\n",
    "\\begin{example} \\label{ex:IIR1}\n",
    "Consider $y[n]= a y[n-1] +  x[n]$. The pole of the transfer function is $z=a$. The impulse response $h[n]=a^n$ has infinite support.\n",
    "\\end{example}\n",
    "\n",
    "In the following exercise, you will check that the filter is stable iff $a$<1.\n",
    "\n",
    "\\begin{exercise}\\label{ex:exofilter}\n",
    "Consider the filter defined in Example \\ref{ex:IIR1}. Using the **function** `lfilter` of scipy, compute and plot the impulse response for several values of $a$.\n",
    "\\end{exercise}\n",
    "\n",
    "\\end{listing}"
   ]
  },
  {
   "cell_type": "markdown",
   "metadata": {
    "deletable": true,
    "editable": true
   },
   "source": [
    "The lines above are rendered as follows (of course everything can be tailored in the stylesheet):\n",
    "%\n",
    "\\begin{definition} \\label{def:diffeq}\n",
    "We call \\textbf{difference equation} an equation of the form\n",
    "\\begin{equation}\n",
    "\\label{eq:diffeq}\n",
    "y[n]= \\sum_{k=1}^{p} a_k y[n-k] + \\sum_{i=0}^q b_i x[n-i]\n",
    "\\end{equation}\n",
    "\\end{definition}\n",
    "%\n",
    "Properties of the filter are linked to the coefficients of the difference equation. For instance, an immediate property is \n",
    "%\n",
    "% this is a comment\n",
    "\\begin{property}\n",
    "If all the $a_k$ in equation (\\ref{eq:diffeq}) of definition \\ref{def:diffeq} are zero, then the filter has a **finite impulse response**. \n",
    "\\end{property}\n",
    "%\n",
    "\\begin{proof}\n",
    "Let $\\delta[n]$ denote the Dirac impulse. Take $x[n]=\\delta[n]$ in (\\ref{eq:diffeq}). This yields, by definition, the impulse response:\n",
    "\\begin{equation}\n",
    "\\label{eq:fir}\n",
    "h[n]= \\sum_{i=0}^q b_i \\delta[n-i],\n",
    "\\end{equation}\n",
    "which has finite support. \n",
    "\\end{proof}\n",
    "%\n",
    "\\begin{theorem}\n",
    "The poles of a causal stable filter are located within the unit circle in the complex plane.\n",
    "\\end{theorem}\n",
    "%\n",
    "\\begin{example} \\label{ex:IIR1}\n",
    "Consider $y[n]= a y[n-1] +  x[n]$. The pole of the transfer function is $z=a$. The impulse response $h[n]=a^n$ has infinite support.\n",
    "\\end{example}\n",
    "\n",
    "In the following exercise, you will check that the filter is stable iff $a$<1.\n",
    "%\n",
    "\\begin{exercise}\\label{ex:exofilter}\n",
    "Consider the filter defined in Example \\ref{ex:IIR1}. Using the **function** `lfilter` of scipy, compute and plot the impulse response for several values of $a$.\n",
    "\\end{exercise}\n",
    "\n"
   ]
  },
  {
   "cell_type": "markdown",
   "metadata": {
    "deletable": true,
    "editable": true
   },
   "source": [
    "\\begin{listing}\n",
    "The solution of exercise \\ref{ex:exofilter}, which uses a difference equation as in Definition \\ref{def:diffeq}:\n",
    "\\end{listing}\n",
    "The solution of exercise \\ref{ex:exofilter}, which uses a difference equation as in Definition \\ref{def:diffeq}:"
   ]
  },
  {
   "cell_type": "code",
   "execution_count": 3,
   "metadata": {
    "collapsed": false,
    "deletable": true,
    "editable": true
   },
   "outputs": [
    {
     "data": {
      "image/png": "[encoded data removed]",
      "text/plain": [
       "<matplotlib.figure.Figure at 0x7f264b9233c8>"
      ]
     },
     "metadata": {},
     "output_type": "display_data"
    }
   ],
   "source": [
    "%matplotlib inline\n",
    "import numpy as np\n",
    "import matplotlib.pyplot as plt \n",
    "from scipy.signal import lfilter\n",
    "d=np.zeros(100); d[0]=1 #dirac impulse\n",
    "alist=[0.2, 0.8, 0.9, 0.95, 0.99, 0.999, 1.001, 1.01]\n",
    "for a in alist:\n",
    "    h=lfilter([1], [1, -a],d)\n",
    "    _=plt.plot(h, label=\"a={}\".format(a))\n",
    "plt.ylim([0,1.5])\n",
    "plt.xlabel('Time')\n",
    "_=plt.legend()"
   ]
  },
  {
   "cell_type": "markdown",
   "metadata": {
    "deletable": true,
    "editable": true,
    "latex_envs": true
   },
   "source": [
    "## Third example:"
   ]
  },
  {
   "cell_type": "markdown",
   "metadata": {
    "deletable": true,
    "editable": true,
    "latex_envs": true
   },
   "source": [
    "This example shows that environments like itemize or enumerate are also available. As already indicated, this is useful for copying text from a TeX file. Following the same idea, text formating commands `\\textit`, `\\textbf`, `\\underline`, etc are also available."
   ]
  },
  {
   "cell_type": "markdown",
   "metadata": {
    "deletable": true,
    "editable": true
   },
   "source": [
    "\\begin{listing}\n",
    "The following \\textit{environments} are available:\n",
    "\\begin{itemize}\n",
    "    \\item \\textbf{Theorems and likes}\n",
    "    \\begin{enumerate}\n",
    "        \\item theorem,\n",
    "        \\item lemma,\n",
    "        \\item corollary\n",
    "        \\item ...\n",
    "    \\end{enumerate}\n",
    "    \\item \\textbf{exercises}\n",
    "    \\begin{enumerate}\n",
    "        \\item problem,\n",
    "        \\item example,\n",
    "        \\item exercise\n",
    "    \\end{enumerate}\n",
    "\\end{itemize}\n",
    "\\end{listing}"
   ]
  },
  {
   "cell_type": "markdown",
   "metadata": {
    "deletable": true,
    "editable": true
   },
   "source": [
    "which gives... \n",
    "\n",
    "The following \\textit{environments} are available:\n",
    "\\begin{itemize}\n",
    "\\item \\textbf{Theorems and likes}\n",
    "\\begin{enumerate}\n",
    "\\item theorem,\n",
    "\\item lemma,\n",
    "\\item corollary\n",
    "\\item ...\n",
    "\\end{enumerate}\n",
    "\\item \\textbf{exercises}\n",
    "\\begin{enumerate}\n",
    "\\item problem,\n",
    "\\item example,\n",
    "\\item exercise\n",
    "\\end{enumerate}\n",
    "\\end{itemize}"
   ]
  },
  {
   "cell_type": "markdown",
   "metadata": {
    "deletable": true,
    "editable": true,
    "latex_envs": true
   },
   "source": [
    "# Disclaimer, sources and thanks"
   ]
  },
  {
   "cell_type": "markdown",
   "metadata": {
    "deletable": true,
    "editable": true,
    "latex_envs": true
   },
   "source": [
    "Originally, I used a piece of code from the nice online markdown editor `stackedit` [https://github.com/benweet/stackedit/issues/187](https://github.com/benweet/stackedit/issues/187), where the authors also considered the problem of incorporating LaTeX markup in their markdown. \n",
    "\n",
    "I also studied and used examples and code from [https://github.com/ipython-contrib/IPython-notebook-extensions](https://github.com/ipython-contrib/IPython-notebook-extensions).\n",
    "\n",
    "- This is done in the hope it can be useful. However there are many impovements possible, in the code and in the documentation. \n",
    "**Contributions will be welcome and deeply appreciated.** \n",
    "\n",
    "- If you have issues, please post an issue at \n",
    "`https://github.com/jfbercher/jupyter_latex_envs/issues` [here](https://github.com/jfbercher/jupyter_latex_envs/issues). \n",
    "\n",
    "**Self-Promotion --** Like `latex_envs`? Please star and follow the [repository](https://github.com/jfbercher/jupyter_latex_envs) on GitHub. \n",
    "\n",
    "\n"
   ]
  },
  {
   "cell_type": "markdown",
   "metadata": {
    "deletable": true,
    "editable": true,
    "latex_envs": true
   },
   "source": [
    "# References\n",
    "\n",
    "(<a id=\"cit-PER-GRA:2007\" href=\"#call-PER-GRA:2007\">P\\'erez and Granger, 2007</a>) P\\'erez Fernando and Granger Brian E., ``_IPython: a System for Interactive Scientific Computing_'', Computing in Science and Engineering, vol. 9, number 3, pp. 21--29, May 2007.  [online](http://ipython.org)\n",
    "\n",
    "(<a id=\"cit-mckinney2012python\" href=\"#call-mckinney2012python\">McKinney, 2012</a>) Wes McKinney, ``_Python for data analysis: Data wrangling with Pandas, NumPy, and IPython_'',  2012.\n",
    "\n",
    "(<a id=\"cit-rossant2013learning\" href=\"#call-rossant2013learning\">Rossant, 2013</a>) Cyrille Rossant, ``_Learning IPython for interactive computing and data visualization_'',  2013.\n",
    "\n",
    "(<a id=\"cit-shen2014interactive\" href=\"#call-shen2014interactive\">Shen, 2014</a>) Shen Helen, ``_Interactive notebooks: Sharing the code_'', Nature, vol. 515, number 7525, pp. 151--152,  2014.\n",
    "\n"
   ]
  },
  {
   "cell_type": "code",
   "execution_count": 4,
   "metadata": {
    "collapsed": false,
    "deletable": true,
    "editable": true
   },
   "outputs": [
    {
     "data": {
      "text/html": [
       "<style>\n",
       "    .prompt{\n",
       "        display: none;\n",
       "    }    \n",
       "\n",
       "</style>"
      ],
      "text/plain": [
       "<IPython.core.display.HTML object>"
      ]
     },
     "metadata": {},
     "output_type": "display_data"
    }
   ],
   "source": [
    "%%html\n",
    "<style>\n",
    "    .prompt{\n",
    "        display: none;\n",
    "    }    \n",
    "\n",
    "</style>"
   ]
  }
 ],
 "metadata": {
  "author": "(some) LaTeX environments \\par for Jupyter notebook",
  "celltoolbar": "Edit Metadata",
  "kernelspec": {
   "display_name": "Python 3",
   "language": "python",
   "name": "python3"
  },
  "language_info": {
   "codemirror_mode": {
    "name": "ipython",
    "version": 3
   },
   "file_extension": ".py",
   "mimetype": "text/x-python",
   "name": "python",
   "nbconvert_exporter": "python",
   "pygments_lexer": "ipython3",
   "version": "3.4.5"
  },
  "latex_envs": {
   "LaTeX_envs_menu_present": true,
   "bibliofile": " biblio_ipython.bib",
   "cite_by": "apalike",
   "current_citInitial": 1,
   "eqLabelWithNumbers": true,
   "eqNumInitial": 1,
   "hotkeys": {
    "equation": "ctrl-e"
   },
   "labels_anchors": true,
   "latex_user_defs": false,
   "report_style_numbering": true,
   "user_envs_cfg": false
  },
  "nav_menu": {
   "height": "287px",
   "width": "282px"
  },
  "nbTranslate": {
   "displayLangs": [
    "fr",
    "en"
   ],
   "hotkey": "alt-t",
   "langInMainMenu": true,
   "sourceLang": "en",
   "targetLang": "fr",
   "useGoogleTranslate": true
  },
  "toc": {
   "colors": {
    "hover_highlight": "#DAA520",
    "running_highlight": "#FF0000",
    "selected_highlight": "#39ff00"
   },
   "moveMenuLeft": true,
   "nav_menu": {
    "height": "502px",
    "width": "252px"
   },
   "navigate_menu": true,
   "number_sections": true,
   "sideBar": true,
   "threshold": "4",
   "toc_cell": false,
   "toc_position": {
    "height": "346px",
    "left": "0px",
    "right": "864px",
    "top": "106px",
    "width": "212px"
   },
   "toc_section_display": "block",
   "toc_window_display": true
  },
  "toc_position": {
   "height": "408px",
   "left": "0px",
   "right": "774.725px",
   "top": "105px",
   "width": "205px"
  },
  "toc_st": {
   "config_loaded": true,
   "extension_initialized": false,
   "nbcontainer_marginleft": "62px",
   "nbcontainer_marginright": "62px",
   "nbcontainer_width": "940px",
   "oldTocHeight": "200px",
   "rendering_toc_cell": false,
   "toc_index": 0
  }
 },
 "nbformat": 4,
 "nbformat_minor": 0
}
